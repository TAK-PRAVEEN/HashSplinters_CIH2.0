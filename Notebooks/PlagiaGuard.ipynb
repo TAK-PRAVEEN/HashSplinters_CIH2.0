{
 "cells": [
  {
   "cell_type": "code",
   "execution_count": null,
   "id": "ffce0b0f",
   "metadata": {},
   "outputs": [],
   "source": [
    "import os\n",
    "from dotenv import load_dotenv\n",
    "import pandas as pd\n",
    "\n",
    "\n",
    "load_dotenv()"
   ]
  },
  {
   "cell_type": "code",
   "execution_count": null,
   "id": "29810884",
   "metadata": {},
   "outputs": [],
   "source": [
    "class PlagiaGuard:\n",
    "    def __init__(self, code):\n",
    "        self.code = code\n",
    "\n",
    "    def logic(self):\n",
    "        GITHUB_TOKEN = os.getenv(\"GITHUB_TOKEN\")\n",
    "        if not GITHUB_TOKEN:\n",
    "            return \"GitHub token not found. Please generate the GitHub API\""
   ]
  }
 ],
 "metadata": {
  "kernelspec": {
   "display_name": ".venv",
   "language": "python",
   "name": "python3"
  },
  "language_info": {
   "codemirror_mode": {
    "name": "ipython",
    "version": 3
   },
   "file_extension": ".py",
   "mimetype": "text/x-python",
   "name": "python",
   "nbconvert_exporter": "python",
   "pygments_lexer": "ipython3",
   "version": "3.9.13"
  }
 },
 "nbformat": 4,
 "nbformat_minor": 5
}
