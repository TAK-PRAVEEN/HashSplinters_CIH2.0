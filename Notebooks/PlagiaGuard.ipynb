{
 "cells": [
  {
   "cell_type": "code",
   "execution_count": 80,
   "id": "ffce0b0f",
   "metadata": {},
   "outputs": [
    {
     "data": {
      "text/plain": [
       "True"
      ]
     },
     "execution_count": 80,
     "metadata": {},
     "output_type": "execute_result"
    }
   ],
   "source": [
    "import os\n",
    "from dotenv import load_dotenv\n",
    "import requests\n",
    "import pandas as pd\n",
    "\n",
    "load_dotenv()"
   ]
  },
  {
   "cell_type": "code",
   "execution_count": null,
   "id": "29810884",
   "metadata": {},
   "outputs": [],
   "source": [
    "import os\n",
    "import requests\n",
    "from dotenv import load_dotenv\n",
    "import pandas as pd\n",
    "\n",
    "# Load environment variables from .env file\n",
    "load_dotenv()\n",
    "\n",
    "class PlagiaGuard:\n",
    "    def __init__(self, code):\n",
    "        self.code = code\n",
    "\n",
    "    def logic(self):\n",
    "        GITHUB_TOKEN = os.getenv(\"GITHIB_TOKEN\")\n",
    "\n",
    "        query = self.code\n",
    "\n",
    "        url = f\"https://api.github.com/search/code?q={query}+in:file+language:python\"\n",
    "\n",
    "        headers = {\n",
    "            \"Authorization\": f\"token {GITHUB_TOKEN}\",\n",
    "            \"Accept\": \"application/vnd.github.v3+json\"\n",
    "        }\n",
    "\n",
    "        return requests.get(url, headers=headers)\n",
    "\n",
    "    def output(self):\n",
    "        response = self.logic()\n",
    "        if response.status_code == 200:\n",
    "            return response.json()\n",
    "        else:\n",
    "            return {}\n",
    "        \n",
    "\n",
    "    def show_results(self):\n",
    "        results = self.output()\n",
    "        if results:\n",
    "            links = {}\n",
    "            for item in results['items'][:5]:\n",
    "                links[item['name']] = item['html_url']\n",
    "            return links\n",
    "        else:\n",
    "            return {}\n",
    "    \n",
    "    def table_output(self):\n",
    "        links = self.show_results()\n",
    "        if links:\n",
    "            data = {\n",
    "                \"Name\" : list(links.keys()),\n",
    "                \"URL\" : list(links.values())\n",
    "            }\n",
    "            df = pd.DataFrame(data = data)\n",
    "            indexes = [i for i in range(1, 6)]\n",
    "            df.index = indexes\n",
    "\n",
    "            # Make URL clickable by converting to an HTML anchor tag\n",
    "            df['URL'] = df['URL'].apply(lambda url: f'<a href=\"{url}\" target=\"_blank\" rel=\"noopener noreferrer\">{url}</a>')\n",
    "            # Convert to HTML\n",
    "            html_table = df.to_html(escape=False, index=False)\n",
    "\n",
    "            return html_table\n",
    "        else:\n",
    "            return {}"
   ]
  },
  {
   "cell_type": "code",
   "execution_count": 101,
   "id": "3a8e19ee",
   "metadata": {},
   "outputs": [],
   "source": [
    "pg = PlagiaGuard(\"def factorial(n): n*factorial(n-1)\")"
   ]
  },
  {
   "cell_type": "code",
   "execution_count": 102,
   "id": "1626fb93",
   "metadata": {},
   "outputs": [
    {
     "data": {
      "text/plain": [
       "<Response [200]>"
      ]
     },
     "execution_count": 102,
     "metadata": {},
     "output_type": "execute_result"
    }
   ],
   "source": [
    "pg.logic()"
   ]
  },
  {
   "cell_type": "code",
   "execution_count": 84,
   "id": "50767e37",
   "metadata": {},
   "outputs": [
    {
     "name": "stdout",
     "output_type": "stream",
     "text": [
      "successfully loaded\n"
     ]
    },
    {
     "data": {
      "text/plain": [
       "{}"
      ]
     },
     "execution_count": 84,
     "metadata": {},
     "output_type": "execute_result"
    }
   ],
   "source": [
    "pg.output()"
   ]
  },
  {
   "cell_type": "code",
   "execution_count": 68,
   "id": "98ab494b",
   "metadata": {},
   "outputs": [
    {
     "data": {
      "text/plain": [
       "{}"
      ]
     },
     "execution_count": 68,
     "metadata": {},
     "output_type": "execute_result"
    }
   ],
   "source": [
    "pg.show_results()"
   ]
  },
  {
   "cell_type": "code",
   "execution_count": 69,
   "id": "a4ebd407",
   "metadata": {},
   "outputs": [
    {
     "data": {
      "text/plain": [
       "{}"
      ]
     },
     "execution_count": 69,
     "metadata": {},
     "output_type": "execute_result"
    }
   ],
   "source": [
    "pg.table_output()"
   ]
  }
 ],
 "metadata": {
  "kernelspec": {
   "display_name": ".venv",
   "language": "python",
   "name": "python3"
  },
  "language_info": {
   "codemirror_mode": {
    "name": "ipython",
    "version": 3
   },
   "file_extension": ".py",
   "mimetype": "text/x-python",
   "name": "python",
   "nbconvert_exporter": "python",
   "pygments_lexer": "ipython3",
   "version": "3.9.13"
  }
 },
 "nbformat": 4,
 "nbformat_minor": 5
}
