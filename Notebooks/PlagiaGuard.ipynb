{
 "cells": [
  {
   "cell_type": "code",
   "execution_count": 1,
   "id": "ffce0b0f",
   "metadata": {},
   "outputs": [
    {
     "data": {
      "text/plain": [
       "True"
      ]
     },
     "execution_count": 1,
     "metadata": {},
     "output_type": "execute_result"
    }
   ],
   "source": [
    "import os\n",
    "from dotenv import load_dotenv\n",
    "import requests\n",
    "import pandas as pd\n",
    "\n",
    "\n",
    "load_dotenv()"
   ]
  },
  {
   "cell_type": "code",
   "execution_count": 2,
   "id": "29810884",
   "metadata": {},
   "outputs": [],
   "source": [
    "class PlagiaGuard:\n",
    "    def __init__(self, code):\n",
    "        self.code = code\n",
    "\n",
    "    def logic(self):\n",
    "        GITHUB_TOKEN = os.getenv(\"GITHUB_TOKEN\") \n",
    "        if not GITHUB_TOKEN:\n",
    "            raise ValueError(\"GitHub token not found. Please set the GITHUB_TOKEN environment variable.\")\n",
    "        \n",
    "        query = self.code\n",
    "\n",
    "        url = f\"https://api.github.com/search/code?q={query}+in:file+language:python\"\n",
    "\n",
    "        headers = {\n",
    "            \"Authorization\": f\"token {GITHUB_TOKEN}\",\n",
    "            \"Accept\": \"application/vnd.github.v3+json\"\n",
    "        }\n",
    "\n",
    "        return requests.get(url, headers=headers)\n",
    "    \n",
    "    def output(self):\n",
    "        response = self.logic()\n",
    "        if response.status_code == 200:\n",
    "            return response.json()\n",
    "        else:\n",
    "            return {}\n",
    "        \n",
    "    def show_output(self):\n",
    "        results = self.output()\n",
    "        if results:\n",
    "            links = {}\n",
    "            \n",
    "        "
   ]
  },
  {
   "cell_type": "code",
   "execution_count": 3,
   "id": "3a8e19ee",
   "metadata": {},
   "outputs": [],
   "source": [
    "pg = PlagiaGuard(\"def factorial: n*factorial(n-1)\")"
   ]
  },
  {
   "cell_type": "code",
   "execution_count": 4,
   "id": "1626fb93",
   "metadata": {},
   "outputs": [
    {
     "data": {
      "text/plain": [
       "<Response [401]>"
      ]
     },
     "execution_count": 4,
     "metadata": {},
     "output_type": "execute_result"
    }
   ],
   "source": [
    "pg.logic()"
   ]
  },
  {
   "cell_type": "code",
   "execution_count": 37,
   "id": "50767e37",
   "metadata": {},
   "outputs": [
    {
     "data": {
      "text/plain": [
       "{}"
      ]
     },
     "execution_count": 37,
     "metadata": {},
     "output_type": "execute_result"
    }
   ],
   "source": [
    "pg.output()"
   ]
  },
  {
   "cell_type": "code",
   "execution_count": 41,
   "id": "98ab494b",
   "metadata": {},
   "outputs": [],
   "source": [
    "pg.show_output()"
   ]
  },
  {
   "cell_type": "code",
   "execution_count": null,
   "id": "a4ebd407",
   "metadata": {},
   "outputs": [],
   "source": []
  }
 ],
 "metadata": {
  "kernelspec": {
   "display_name": ".venv",
   "language": "python",
   "name": "python3"
  },
  "language_info": {
   "codemirror_mode": {
    "name": "ipython",
    "version": 3
   },
   "file_extension": ".py",
   "mimetype": "text/x-python",
   "name": "python",
   "nbconvert_exporter": "python",
   "pygments_lexer": "ipython3",
   "version": "3.9.13"
  }
 },
 "nbformat": 4,
 "nbformat_minor": 5
}
